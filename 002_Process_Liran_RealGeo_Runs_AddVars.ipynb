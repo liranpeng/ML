{
 "cells": [
  {
   "cell_type": "code",
   "execution_count": 1,
   "id": "interstate-german",
   "metadata": {},
   "outputs": [],
   "source": [
    "#!ln -s /filer/z-sv-pool12c/t/Tom.Beucler/SPCAM/CBRAIN-CAM/cbrain \\\n",
    "#/filer/z-sv-pool12c/t/Tom.Beucler/SPCAM/CBRAIN-CAM/notebooks/tbeucler_devlog/cbrain\n",
    "import sys\n",
    "sys.path.append('/media/liran/Data1/Project/ML/liran/lirantool')  \n",
    "from lirantool.imports import *\n",
    "from lirantool.data_generator import *\n",
    "from lirantool.utils import *\n",
    "import tensorflow as tf\n",
    "import tensorflow.math as tfm\n",
    "import pickle\n",
    "import tensorflow as tf\n",
    "import tensorflow.math as tfm\n",
    "#import tensorflow_probability as tfp\n",
    "from tensorflow.keras.layers import *\n",
    "from tensorflow.keras.models import *\n",
    "import xarray as xr\n",
    "import numpy as np\n",
    "import matplotlib as mpl\n",
    "import matplotlib.pyplot as plt\n",
    "import matplotlib.image as imag\n",
    "import scipy.integrate as sin\n",
    "#import cartopy.crs as ccrs\n",
    "import matplotlib.ticker as mticker\n",
    "# Otherwise tensorflow will use ALL your GPU RAM for no reason\n",
    "#limit_mem()"
   ]
  },
  {
   "cell_type": "code",
   "execution_count": 49,
   "id": "graduate-eagle",
   "metadata": {},
   "outputs": [],
   "source": [
    "day = '02'\n",
    "SP_Case = 'SPCAM_NN_v2'\n",
    "SP_PATH = '/media/liran/Liran_Data6/ML_TestRun_2/'\n",
    "SP2003_h0 = xr.open_mfdataset(SP_PATH+SP_Case+'*.h0*2003-02-'+day+'*.nc')\n",
    "SP2003_h1 = xr.open_mfdataset(SP_PATH+SP_Case+'*.h1*2003-02-'+day+'*.nc')\n",
    "SP2003_h2 = xr.open_mfdataset(SP_PATH+SP_Case+'*.h2*2003-02-'+day+'*.nc')\n",
    "SP2003_h3 = xr.open_mfdataset(SP_PATH+SP_Case+'*.h3*2003-02-'+day+'*.nc')\n",
    "SP2003_h4 = xr.open_mfdataset(SP_PATH+SP_Case+'*.h4*2003-02-'+day+'*.nc')\n",
    "SP2003_h5 = xr.open_mfdataset(SP_PATH+SP_Case+'*.h5*2003-02-'+day+'*.nc')"
   ]
  },
  {
   "cell_type": "markdown",
   "id": "running-meeting",
   "metadata": {},
   "source": [
    "# Model overview\n",
    "## 1. GCM grid f19_f19_mg17 <lat:96 x lon:144=13,824>\n",
    "## 2. GCM time step: 1800 sec = 30 min\n",
    "## 3. Model version: CESM 2.1.3 </home1/07088/tg863871/repositories/CESM>\n",
    "## 4. Code Modification: </home1/07088/tg863871/Liran_Mike_CESM2>\n",
    "## 5. Run script: /home1/07088/tg863871/NN_SP_run.csh\n",
    "## 6. History files\n",
    "### h0 files: State Before Physics (BP)\n",
    "    TBP',        ->K',         ->Temperature (before physics)\n",
    "    QBP',        ->kg/kg',     ->Specific Humidity (before physics)\n",
    "    UBP',        ->m/s',       ->zonal wind (before physics)\n",
    "    VBP',        ->m/s',       ->meridional wind (before physics)\n",
    "    SBP',        -> ',         ->dry static energy (before physics)\n",
    "    OMEGABP',    ->Pa/s',      ->vertical pressure velocity (before physics)\n",
    "    PMIDBP',     ->Pa',        ->midpoint pressure (before physics)\n",
    "    PMIDDRYBP',  ->Pa',        ->midpoint pressure dry (before physics)\n",
    "    PDELBP',     ->Pa',        ->layer thickness (before physics)\n",
    "    PDELDRYBP',  ->Pa',        ->layer thickness dry (before physics)\n",
    "    RPDELBP',    ->Pa',        ->reciprocal of layer thickness (before physics)\n",
    "    RPDELDRYBP', ->Pa',        ->reciprocal of layer thickness dry (before physics)\n",
    "    LNPMIDBP',   ->  ',        ->ln(pmid) (before physics)\n",
    "    LNPMIDDRYBP',->Pa',        ->log midpoint pressure dry (before physics)\n",
    "    EXNERBP',    ->(ps/p)^(R/cp)', 'inverse exner function w.r.t. surface pressure (before physics)\n",
    "    ZMBP',       ->m',         ->geopotential height above surface at midpoints (before physics)\n",
    "    CLDLIQBP',   ->kg/kg   ', ->Cloud liquid (before physics) \n",
    "    CLDICEBP',   ->kg/kg   ', ->Cloud ice (before physics) \n",
    "    \n",
    "fincl1 = 'QBP:I','UBP:I','VBP:I','SBP:I','OMEGABP:I','PMIDBP:I','PMIDDRYBP:I','PDELBP:I','PDELDRYBP:I','RPDELBP:I','RPDELDRYBP:I','LNPMIDBP:I','LNPMIDDRYBP:I','EXNERBP:I','ZMBP:I','CLDLIQBP:I','CLDICEBP:I','TBP:I'\n",
    "### h1 files: Before coupling (BC)\n",
    "    TBC',          ->'K',              'Temperature (before coupling) \n",
    "    UBC',           ->'m/s',           'zonal wind (before coupling)\n",
    "    VBC',           ->'m/s',           'meridional wind (before coupling)\n",
    "    SBC',           ->' ',             'dry static energy (before coupling)\n",
    "    OMEGABC',       ->'Pa/s',          'vertical pressure velocity (before coupling)\n",
    "    PMIDBC',        ->'Pa',            'midpoint pressure (before coupling)\n",
    "    PMIDDRYBC',     ->'Pa',            'midpoint pressure dry (before coupling)\n",
    "    PDELBC',        ->'Pa',            'layer thickness (before coupling)\n",
    "    PDELDRYBC',     ->'Pa',            'layer thickness dry (before coupling)\n",
    "    RPDELBC',       ->'Pa',            'reciprocal of layer thickness (before coupling)\n",
    "    RPDELDRYBC',    ->'Pa',            'reciprocal of layer thickness dry (before coupling)\n",
    "    LNPMIDBC',      ->'  ',            'ln(pmid) (before coupling)\n",
    "    LNPMIDDRYBC',   ->'Pa',            'log midpoint pressure dry (before coupling)\n",
    "    EXNERBC',       ->'(ps/p)^(R/cp)', 'inverse exner function w.r.t. surface pressure (before coupling)\n",
    "    ZMBC',          ->'m', 'geopotential height above surface at midpoints (before coupling)\n",
    "    QBC     ',     ->'kg/kg   ','Specific humidity (before coupling) \n",
    "    CLDLIQBC',     ->'kg/kg   ','Cloud liquid (before coupling) \n",
    "    CLDICEBC',     ->'kg/kg   ','Cloud ice (before coupling) \n",
    "fincl2 = 'QBC:I','UBC:I','VBC:I','SBC:I','OMEGABC:I','PMIDBC:I','PMIDDRYBC:I','PDELBC:I','PDELDRYBC:I','RPDELBC:I','RPDELDRYBC:I','LNPMIDBC:I','LNPMIDDRYBC:I','EXNERBC:I','ZMBC:I','CLDLIQBC:I','CLDICEBC:I','TBC:I'\n",
    "### h2 files: cam_out variables\n",
    "      NN2L_TBOT'    ->K       ,Lowest model level temperature\n",
    "      NN2L_ZBOT'    ->m       ,Lowest model level height above surface\n",
    "      NN2L_UBOT'    ->m/s     ,Lowest model level u wind\n",
    "      NN2L_VBOT'    ->m/s     ,Lowest model level v wind\n",
    "      NN2L_QBOT'    ->kg/kg   ,Lowest model level specific humidity\n",
    "      NN2L_PBOT'    ->Pa      ,Lowest model level pressure\n",
    "      NN2L_RHO'     ->kg/m3   ,Lowest model level density\n",
    "      NN2L_NETSW'   ->W/m2    ,Net shortwave flux at surface\n",
    "      NN2L_FLWDS'   ->W/m2    ,Down longwave flux at surface\n",
    "      NN2L_PRECSC'  ->m/s     ,Convective snow rate\n",
    "      NN2L_PRECSL'  ->m/s     ,Stratiform snow rate\n",
    "      NN2L_PRECC'   ->m/s     ,Convective precipitation rate\n",
    "      NN2L_PRECL'   ->m/s     ,Stratiform precip rate\n",
    "      NN2L_SOLL'    ->W/m2    ,Solar downward near infrared direct  to surface\n",
    "      NN2L_SOLS'    ->W/m2    ,Direct solar rad on surface (< 0.7)\n",
    "      NN2L_SOLLD'   ->W/m2    ,Diffuse solar rad on surface (>= 0.7)\n",
    "      NN2L_SOLSD'   ->W/m2    ,Diffuse solar rad on surface (< 0.7)\n",
    "      NN2L_THBOT'    ->K       ,atm potential T\n",
    "      NN2L_CO2PROG'  ->kg/m2/s ,prognostic co2\n",
    "      NN2L_CO2DIAG'  ->kg/m2/s ,diagnostic co2\n",
    "      NN2L_PSL'      ->Pa      ,sea level pressure\n",
    "      NN2L_BCPHIWET' ->kg/m2/s ,Black Carbon hydrophilic wet deposition\n",
    "      NN2L_BCPHIDRY' ->kg/m2/s ,Black Carbon hydrophilic dry deposition\n",
    "      NN2L_BCPHODRY' ->kg/m2/s ,Black Carbon hydrophobic dry deposition\n",
    "      NN2L_OCPHIWET' ->kg/m2/s ,wet deposition of hydrophilic organic carbon\n",
    "      NN2L_OCPHIDRY' ->kg/m2/s ,Organic Carbon hydrophilic dry deposition\n",
    "      NN2L_OCPHODRY' ->kg/m2/s ,Organic Carbon hydrophobic dry deposition\n",
    "      NN2L_DSTWET1'  ->kg/m2/s ,wet deposition of dust (bin1)\n",
    "      NN2L_DSTDRY1'  ->kg/m2/s ,dry deposition of dust (bin1)\n",
    "      NN2L_DSTWET2'  ->kg/m2/s ,wet deposition of dust (bin2)\n",
    "      NN2L_DSTDRY2'  ->kg/m2/s ,dry deposition of dust (bin2)\n",
    "      NN2L_DSTWET3'  ->kg/m2/s ,wet deposition of dust (bin3)\n",
    "      NN2L_DSTDRY3'  ->kg/m2/s ,dry deposition of dust (bin3)\n",
    "      NN2L_DSTWET4'  ->kg/m2/s ,wet deposition of dust (bin4)\n",
    "      NN2L_DSTDRY4'  ->kg/m2/s ,dry deposition of dust (bin4)\n",
    "fincl3 = 'NN2L_DSTDRY4:A','NN2L_DSTWET4:A','NN2L_DSTDRY3:A','NN2L_DSTWET3:A','NN2L_DSTDRY2:A','NN2L_DSTWET2:A','NN2L_DSTDRY1:A','NN2L_DSTWET1:A','NN2L_OCPHODRY:A','NN2L_OCPHIDRY:A','NN2L_OCPHIWET:A','NN2L_BCPHODRY:A','NN2L_BCPHIDRY:A','NN2L_BCPHIWET:A','NN2L_PSL:A','NN2L_CO2DIAG:I','NN2L_CO2PROG:I','NN2L_THBOT:I','NN2L_SOLSD:I','NN2L_SOLLD:I','NN2L_SOLS:I','NN2L_SOLL:I','NN2L_PRECL:A','NN2L_PRECC:A','NN2L_PRECSL:A','NN2L_PRECSC:A','NN2L_FLWDS:I','NN2L_NETSW:I','NN2L_TBOT:A','NN2L_ZBOT:A','NN2L_UBOT:A','NN2L_VBOT:A','NN2L_QBOT:A','NN2L_PBOT:I','NN2L_RHO:I'\n",
    "### h3 files: CRM variables\n",
    "    CRM_U   ->'crm_nx','crm_ny', 'crm_nz' , 'm/s     ', 'CRM x-wind'                          \n",
    "    CRM_V   ->'crm_nx','crm_ny', 'crm_nz' , 'm/s     ', 'CRM y-wind'                          \n",
    "    CRM_W   ->'crm_nx','crm_ny', 'crm_nz' , 'm/s     ', 'CRM z-wind'                          \n",
    "    CRM_T   ->'crm_nx','crm_ny', 'crm_nz' , 'K       ', 'CRM Temperature'                     \n",
    "    CRM_QV  ->'crm_nx','crm_ny', 'crm_nz' , 'kg/kg   ', 'CRM Water Vapor'                     \n",
    "    CRM_QC  ->'crm_nx','crm_ny', 'crm_nz' , 'kg/kg   ', 'CRM Cloud Water'                     \n",
    "    CRM_QI  ->'crm_nx','crm_ny', 'crm_nz' , 'kg/kg   ', 'CRM Cloud Ice'                       \n",
    "    CRM_QPC ->'crm_nx','crm_ny', 'crm_nz' , 'kg/kg   ', 'CRM Precipitating Water'             \n",
    "    CRM_QPI ->'crm_nx','crm_ny', 'crm_nz' , 'kg/kg   ', 'CRM Precipitating Ice'               \n",
    "    CRM_PREC->'crm_nx','crm_ny'           , 'm/s     ', 'CRM Precipitation Rate'              \n",
    "fincl4 = 'CRM_QV:I','CRM_QC:I','CRM_QI:I','CRM_QPC:I','CRM_QPI:I','CRM_PREC:I','CRM_U:I','CRM_V:I','CRM_T:I','CRM_W:I'\n",
    "### h4 files: State variables after physics (AP) \n",
    "fincl5 = 'QAP:I','UAP:I','VAP:I','SAP:I','OMEGAAP:I','PMIDAP:I','PMIDDRYAP:I','PDELAP:I','PDELDRYAP:I','RPDELAP:I','RPDELDRYAP:I','LNPMIDAP:I','LNPMIDDRYAP:I','EXNERAP:I','ZMAP:I','CLDLIQAP:I','CLDICEAP:I','TAP:I'\n",
    "### h5 files: cam_in variables\n",
    "    CAMIN_ASDIR ->albedo: shortwave, direct\n",
    "    CAMIN_ASDIF ->albedo: shortwave, diffuse\n",
    "    CAMIN_ALDIR ->albedo: longwave, direct\n",
    "    CAMIN_ALDIF ->albedo: longwave, diffuse\n",
    "    CAMIN_LWUP ->longwave up radiative flux\n",
    "    CAMIN_LHF ->latent heat flux\n",
    "    CAMIN_SHF ->sensible heat flux\n",
    "    CAMIN_WSX ->surface u-stress\n",
    "    CAMIN_WSY ->surface v-stress\n",
    "    CAMIN_TREF ->ref height surface air temp\n",
    "    CAMIN_QREF ->ref height specific humidity\n",
    "    CAMIN_U10 ->10m wind speed\n",
    "    CAMIN_TS ->merged surface temp\n",
    "    CAMIN_SST ->sea surface temp\n",
    "    CAMIN_SNOWLAND ->snow depth (liquid water equivalent over land\n",
    "    CAMIN_SNOWICE ->snow depth over ice\n",
    "    CAMIN_FCO2LND ->co2 flux from lnd\n",
    "    CAMIN_FCO2OCN ->co2 flux from ocn\n",
    "    CAMIN_FDMS ->dms flux\n",
    "    CAMIN_LANDFRAC ->land area fraction\n",
    "    CAMIN_ICEFRAC ->sea-ice areal fraction\n",
    "    CAMIN_OCNFRAC ->ocean areal fraction\n",
    "    CAMIN_RAM1 ->aerodynamical resistance\n",
    "    CAMIN_FV ->friction velocity\n",
    "    CAMIN_SOILW -> volumetric soil water\n",
    "    CAMIN_CFLX-> constituent flux (emissions\n",
    "    CAMIN_USTAR-> atm/ocn saved version of ustar\n",
    "    CAMIN_RE-> atm/ocn saved version of re\n",
    "    CAMIN_SSQ-> atm/ocn saved version of ssq \n",
    "    CAMIN_DEPVEL-> deposition velocities \n",
    "    CAMIN_DSTFLX-> volumetric soil water\n",
    "    CAMIN_MEGANFLX-> wild fire emissions \n",
    "    CAMIN_FIREFLX-> volumetric soil water\n",
    "    CAMIN_FIREZTOP-> wild fire emissions vert distribution top\n",
    "\n",
    "fincl6 = 'CAMIN_ASDIR:I','CAMIN_ASDIF:I', 'CAMIN_ALDIR:I', 'CAMIN_ALDIF:I', 'CAMIN_LWUP:I', 'CAMIN_LHF:I',  'CAMIN_SHF:I',  'CAMIN_WSX:I', 'CAMIN_WSY:I', 'CAMIN_TREF:I', 'CAMIN_QREF:I',  'CAMIN_U10:I', 'CAMIN_TS:I', 'CAMIN_SST:I', 'CAMIN_SNOWLAND:I',  'CAMIN_SNOWICE:I',  'CAMIN_FCO2LND:I', 'CAMIN_FCO2OCN:I',  'CAMIN_FDMS:I',  'CAMIN_LANDFRAC:I', 'CAMIN_ICEFRAC:I', 'CAMIN_OCNFRAC:I', 'CAMIN_RAM1:I', 'CAMIN_FV:I', 'CAMIN_CFLX:I',  'CAMIN_USTAR:I', 'CAMIN_RE:I', 'CAMIN_SSQ:I'"
   ]
  },
  {
   "cell_type": "markdown",
   "id": "inner-registrar",
   "metadata": {},
   "source": [
    "# Module to check\n",
    "   1. vertically integrated total energy and water conservation for each\n",
    "      column within the physical parameterizations\n",
    "\n",
    "   2. global mean total energy conservation between the physics output state\n",
    "      and the input state on the next time step.\n",
    "\n",
    "   3. add a globally uniform heating term to account for any change of total energy in 2."
   ]
  },
  {
   "cell_type": "markdown",
   "id": "completed-convergence",
   "metadata": {},
   "source": [
    "## Kinetic energy: \n",
    "$$\n",
    "ke\\ \\left[\\mathrm{J\\ m^{-2}}\\right]\\overset{\\mathrm{def}}{=}\\frac{{u}^2+{v}^2}{2}\n",
    "$$"
   ]
  },
  {
   "cell_type": "markdown",
   "id": "developmental-perception",
   "metadata": {},
   "source": [
    "## Dry Static energy: \n",
    "$$\n",
    "se\\ \\left[\\mathrm{J\\ m^{-2}}\\right]\\overset{\\mathrm{def}}{=}c_{p}T+gdz\n",
    "$$"
   ]
  },
  {
   "cell_type": "markdown",
   "id": "saving-frederick",
   "metadata": {},
   "source": [
    "## Frozen static energy: \n",
    "$$\n",
    "te\\ \\left[\\mathrm{J\\ m^{-2}}\\right]\\overset{\\mathrm{def}}{=}se+ke+({L_{v}+L_{s}})w_{v}+{L_{s}}w_{i}\n",
    "$$"
   ]
  },
  {
   "cell_type": "markdown",
   "id": "graphic-lightning",
   "metadata": {},
   "source": [
    "## Total Water: \n",
    "$$\n",
    "t_{w}\\ \\left[\\mathrm{kg\\ kg^{-1}}\\right]\\overset{\\mathrm{def}}{=}w_{v}+w_{l}+w_{i}\n",
    "$$\n",
    "$$\n",
    "w_{l} = w_{cldliq}\n",
    "$$\n",
    "$$\n",
    "w_{i} = w_{cldice}\n",
    "$$\n"
   ]
  },
  {
   "cell_type": "markdown",
   "id": "frank-national",
   "metadata": {},
   "source": [
    "## The model define  \n",
    "    TEINP: \"Total energy of physics input\" 'J/m2'\n",
    "        Before physics: \n",
    "$$\n",
    "te_{ini}, tw_{ini}\n",
    "$$\n",
    "    \n",
    "    phys_run1: First part of atmospheric physics package before updating of surface models. Compute global mean total energy of physics input and output states and then call tphysbc_spcam. \n",
    "    \n",
    "    phys_run2: Second part of atmospheric physics package after updating of surface models. This subroutine calls tphysac (physics after coupling to land, sea, and ice models). \n",
    "    \n",
    "    TEOUT: \"Total energy of physics output\" 'J/m2'\n",
    "        Physics after coupling to land, sea, and ice models\n",
    "$$\n",
    "te_{cur}, tw_{cur}\n",
    "$$\n",
    "    Global mean total energy difference\n",
    "$$\n",
    "te_{diff} = te_{ini} - te_{cur}\n",
    "$$\n",
    "    Global mean heating rate\n",
    "$$\n",
    "heat_{glob} = -te_{diff}/dt*g/(ps-ptop)\n",
    "$$  \n",
    "\n",
    "    ps -> global mean surface pressure\n",
    "    \n",
    "    ptop-> global mean top boundary perssure\n",
    "\n",
    "$$\n",
    "pttend = \\frac{dT}{dt} - \\frac{heat_{glob}}{cp_{air}}\n",
    "$$  \n"
   ]
  },
  {
   "cell_type": "code",
   "execution_count": 9,
   "id": "compliant-laptop",
   "metadata": {},
   "outputs": [],
   "source": [
    "lon = SP2003_h0.lon.values\n",
    "lat = SP2003_h0.lat.values"
   ]
  },
  {
   "cell_type": "code",
   "execution_count": 14,
   "id": "republican-responsibility",
   "metadata": {},
   "outputs": [],
   "source": [
    "TBP = SP2003_h0.TBP.values\n",
    "TBC = SP2003_h1.TBC.values\n",
    "T = SP2003_h3.T.values\n",
    "TAP = SP2003_h5.TAP.values"
   ]
  },
  {
   "cell_type": "code",
   "execution_count": 10,
   "id": "noted-coordinate",
   "metadata": {},
   "outputs": [
    {
     "data": {
      "text/plain": [
       "(144,)"
      ]
     },
     "execution_count": 10,
     "metadata": {},
     "output_type": "execute_result"
    }
   ],
   "source": [
    "lon.shape"
   ]
  },
  {
   "cell_type": "code",
   "execution_count": 11,
   "id": "inclusive-tucson",
   "metadata": {},
   "outputs": [
    {
     "data": {
      "text/plain": [
       "(96,)"
      ]
     },
     "execution_count": 11,
     "metadata": {},
     "output_type": "execute_result"
    }
   ],
   "source": [
    "lat.shape"
   ]
  },
  {
   "cell_type": "code",
   "execution_count": 12,
   "id": "remarkable-eligibility",
   "metadata": {},
   "outputs": [
    {
     "data": {
      "text/plain": [
       "(48, 26, 96, 144)"
      ]
     },
     "execution_count": 12,
     "metadata": {},
     "output_type": "execute_result"
    }
   ],
   "source": [
    "TBC.shape"
   ]
  },
  {
   "cell_type": "code",
   "execution_count": 15,
   "id": "trained-ratio",
   "metadata": {},
   "outputs": [],
   "source": [
    "TBP1 = TBP.flatten()\n",
    "TBC1 = TBC.flatten()\n",
    "T1 = T.flatten()\n",
    "TAP1 = TAP.flatten()"
   ]
  },
  {
   "cell_type": "code",
   "execution_count": 22,
   "id": "stretch-enzyme",
   "metadata": {},
   "outputs": [
    {
     "data": {
      "image/png": "[encoded data removed]",
      "text/plain": [
       "<Figure size 432x288 with 4 Axes>"
      ]
     },
     "metadata": {},
     "output_type": "display_data"
    }
   ],
   "source": [
    "import matplotlib.pyplot as plt\n",
    "plt.style.use('ggplot')\n",
    "fig, ax = plt.subplots(ncols=2, nrows=2) \n",
    "(values, bins, _) = ax[0,0].hist(TBP1,bins=50,density=True,label=\"TBP\")\n",
    "(values, bins, _) = ax[0,1].hist(TBC1,bins=50,density=True,label=\"TBC\")\n",
    "(values, bins, _) = ax[1,0].hist(T1,bins=50,density=True,label=\"T\")\n",
    "(values, bins, _) = ax[1,1].hist(TAP1,bins=50,density=True,label=\"TAP\")"
   ]
  },
  {
   "cell_type": "code",
   "execution_count": 23,
   "id": "isolated-roots",
   "metadata": {
    "collapsed": true
   },
   "outputs": [
    {
     "data": {
      "image/png": "[encoded data removed]",
      "text/plain": [
       "<Figure size 432x288 with 4 Axes>"
      ]
     },
     "metadata": {},
     "output_type": "display_data"
    }
   ],
   "source": [
    "import matplotlib.pyplot as plt\n",
    "plt.style.use('ggplot')\n",
    "fig, ax = plt.subplots(ncols=2, nrows=2) \n",
    "(values, bins, _) = ax[0,0].hist(TBP1,bins=50,density=True,label=\"TBP\")\n",
    "(values, bins, _) = ax[0,1].hist(TBC1-TBP1,bins=50,density=True,label=\"TBC-TBP\")\n",
    "(values, bins, _) = ax[1,0].hist(T1-TBP1,bins=50,density=True,label=\"T-TBP\")\n",
    "(values, bins, _) = ax[1,1].hist(TAP1-TBP1,bins=50,density=True,label=\"TAP-TBP\")"
   ]
  },
  {
   "cell_type": "code",
   "execution_count": 54,
   "id": "undefined-retention",
   "metadata": {},
   "outputs": [],
   "source": [
    "QBP = SP2003_h0.QBP.values\n",
    "QBC = SP2003_h1.QBC.values\n",
    "QAP = SP2003_h4.QAP.values"
   ]
  },
  {
   "cell_type": "code",
   "execution_count": 51,
   "id": "speaking-teens",
   "metadata": {},
   "outputs": [],
   "source": [
    "CLDLIQBP = SP2003_h0.CLDLIQBP.values\n",
    "CLDLIQBC = SP2003_h1.CLDLIQBC.values\n",
    "CLDLIQAP = SP2003_h4.CLDLIQAP.values"
   ]
  },
  {
   "cell_type": "code",
   "execution_count": 52,
   "id": "elegant-spank",
   "metadata": {},
   "outputs": [],
   "source": [
    "CLDICEBP = SP2003_h0.CLDICEBP.values\n",
    "CLDICEBC = SP2003_h1.CLDICEBC.values\n",
    "CLDICEAP = SP2003_h4.CLDICEAP.values"
   ]
  },
  {
   "cell_type": "code",
   "execution_count": 55,
   "id": "incredible-bouquet",
   "metadata": {},
   "outputs": [],
   "source": [
    "CLDLIQBP1 = CLDLIQBP.flatten()\n",
    "CLDICEBP1 = CLDICEBP.flatten()\n",
    "CLDLIQAP1 = CLDLIQAP.flatten()\n",
    "CLDICEAP1 = CLDICEAP.flatten()\n",
    "QBP1 = QBP.flatten()\n",
    "QAP1 = QAP.flatten()"
   ]
  },
  {
   "cell_type": "code",
   "execution_count": 70,
   "id": "medium-vampire",
   "metadata": {},
   "outputs": [
    {
     "data": {
      "image/png": "[encoded data removed]",
      "text/plain": [
       "<Figure size 1080x1080 with 4 Axes>"
      ]
     },
     "metadata": {},
     "output_type": "display_data"
    }
   ],
   "source": [
    "fig, ax = plt.subplots(2, 2,figsize=(15, 15))\n",
    "ax[0,0].scatter(QBP1+CLDLIQBP1+CLDICEBP1, QAP1+CLDLIQAP1+CLDICEAP1)\n",
    "ax[0,0].set(xlim=(0, 0.03), ylim=(0, 0.03))\n",
    "ax[0,0].set_xlabel(r\"$\\mathrm{w_{v}+w_{l}+w_{i}\\ Before Physics\\ \\left[kg.kg^{-1}\\right]}$\", fontsize=16)\n",
    "ax[0,0].set_ylabel(r\"$\\mathrm{w_{v}+w_{l}+w_{i}\\ After Physics\\ \\left[kg.kg^{-1}\\right]}$\", fontsize=16)\n",
    "\n",
    "ax[1,0].hist(CLDLIQBP1*1000,bins=100,range=[-0.00000005, 0.00000005],density=True)\n",
    "ax[1,0].set_xlabel(r\"$\\mathrm{w_{l}\\ Before Physics\\ \\left[g.kg^{-1}\\right]}$\", fontsize=16)\n",
    "ax[1,0].set_ylabel(r\"PDF\", fontsize=16)\n",
    "\n",
    "ax[0,1].hist(CLDICEBP1*1000,bins=100,range=[-0.00000005, 0.00000005],density=True)\n",
    "ax[0,1].set_xlabel(r\"$\\mathrm{w_{i}\\ Before Physics\\ \\left[g.kg^{-1}\\right]}$\", fontsize=16)\n",
    "ax[0,1].set_ylabel(r\"PDF\", fontsize=16)\n",
    "\n",
    "ax[1,1].hist(QBP1*1000,bins=100,range=[-0.00000005, 0.00000005],density=True)\n",
    "ax[1,1].set_xlabel(r\"$\\mathrm{w_{v}\\ Before Physics\\ \\left[g.kg^{-1}\\right]}$\", fontsize=16)\n",
    "ax[1,1].set_ylabel(r\"PDF\", fontsize=16)\n",
    "plt.show()\n"
   ]
  },
  {
   "cell_type": "code",
   "execution_count": null,
   "id": "neither-breakfast",
   "metadata": {},
   "outputs": [],
   "source": []
  },
  {
   "cell_type": "code",
   "execution_count": null,
   "id": "amateur-table",
   "metadata": {},
   "outputs": [],
   "source": []
  },
  {
   "cell_type": "code",
   "execution_count": null,
   "id": "mysterious-limit",
   "metadata": {},
   "outputs": [],
   "source": []
  }
 ],
 "metadata": {
  "kernelspec": {
   "display_name": "Python 3",
   "language": "python",
   "name": "python3"
  },
  "language_info": {
   "codemirror_mode": {
    "name": "ipython",
    "version": 3
   },
   "file_extension": ".py",
   "mimetype": "text/x-python",
   "name": "python",
   "nbconvert_exporter": "python",
   "pygments_lexer": "ipython3",
   "version": "3.7.3"
  }
 },
 "nbformat": 4,
 "nbformat_minor": 5
}
